{
 "cells": [
  {
   "cell_type": "code",
   "execution_count": 35,
   "id": "7b757629-3d71-42d5-b50c-b67509e9fa04",
   "metadata": {},
   "outputs": [],
   "source": [
    "import torch\n",
    "import numpy as np\n",
    "from PIL import Image\n",
    "from torchvision import transforms,models"
   ]
  },
  {
   "cell_type": "code",
   "execution_count": 36,
   "id": "7c0ae93a-4477-48c4-9926-d17df1d767fd",
   "metadata": {},
   "outputs": [
    {
     "data": {
      "text/plain": [
       "VGG(\n",
       "  (features): Sequential(\n",
       "    (0): Conv2d(3, 64, kernel_size=(3, 3), stride=(1, 1), padding=(1, 1))\n",
       "    (1): ReLU(inplace=True)\n",
       "    (2): Conv2d(64, 64, kernel_size=(3, 3), stride=(1, 1), padding=(1, 1))\n",
       "    (3): ReLU(inplace=True)\n",
       "    (4): MaxPool2d(kernel_size=2, stride=2, padding=0, dilation=1, ceil_mode=False)\n",
       "    (5): Conv2d(64, 128, kernel_size=(3, 3), stride=(1, 1), padding=(1, 1))\n",
       "    (6): ReLU(inplace=True)\n",
       "    (7): Conv2d(128, 128, kernel_size=(3, 3), stride=(1, 1), padding=(1, 1))\n",
       "    (8): ReLU(inplace=True)\n",
       "    (9): MaxPool2d(kernel_size=2, stride=2, padding=0, dilation=1, ceil_mode=False)\n",
       "    (10): Conv2d(128, 256, kernel_size=(3, 3), stride=(1, 1), padding=(1, 1))\n",
       "    (11): ReLU(inplace=True)\n",
       "    (12): Conv2d(256, 256, kernel_size=(3, 3), stride=(1, 1), padding=(1, 1))\n",
       "    (13): ReLU(inplace=True)\n",
       "    (14): Conv2d(256, 256, kernel_size=(3, 3), stride=(1, 1), padding=(1, 1))\n",
       "    (15): ReLU(inplace=True)\n",
       "    (16): MaxPool2d(kernel_size=2, stride=2, padding=0, dilation=1, ceil_mode=False)\n",
       "    (17): Conv2d(256, 512, kernel_size=(3, 3), stride=(1, 1), padding=(1, 1))\n",
       "    (18): ReLU(inplace=True)\n",
       "    (19): Conv2d(512, 512, kernel_size=(3, 3), stride=(1, 1), padding=(1, 1))\n",
       "    (20): ReLU(inplace=True)\n",
       "    (21): Conv2d(512, 512, kernel_size=(3, 3), stride=(1, 1), padding=(1, 1))\n",
       "    (22): ReLU(inplace=True)\n",
       "    (23): MaxPool2d(kernel_size=2, stride=2, padding=0, dilation=1, ceil_mode=False)\n",
       "    (24): Conv2d(512, 512, kernel_size=(3, 3), stride=(1, 1), padding=(1, 1))\n",
       "    (25): ReLU(inplace=True)\n",
       "    (26): Conv2d(512, 512, kernel_size=(3, 3), stride=(1, 1), padding=(1, 1))\n",
       "    (27): ReLU(inplace=True)\n",
       "    (28): Conv2d(512, 512, kernel_size=(3, 3), stride=(1, 1), padding=(1, 1))\n",
       "    (29): ReLU(inplace=True)\n",
       "    (30): MaxPool2d(kernel_size=2, stride=2, padding=0, dilation=1, ceil_mode=False)\n",
       "  )\n",
       "  (avgpool): AdaptiveAvgPool2d(output_size=(7, 7))\n",
       "  (classifier): Sequential(\n",
       "    (0): Linear(in_features=25088, out_features=100, bias=True)\n",
       "    (1): ReLU()\n",
       "    (2): Dropout(p=0.5, inplace=False)\n",
       "    (3): Linear(in_features=100, out_features=2, bias=True)\n",
       "  )\n",
       ")"
      ]
     },
     "execution_count": 36,
     "metadata": {},
     "output_type": "execute_result"
    }
   ],
   "source": [
    "model=models.vgg16(pretrained=True)\n",
    "#Build a new full connection layer\n",
    "model.classifier=torch.nn.Sequential(torch.nn.Linear(25088,100),\n",
    "                                     torch.nn.ReLU(),\n",
    "                                     torch.nn.Dropout(p=0.5),\n",
    "                                     torch.nn.Linear(100,2))\n",
    "model.load_state_dict(torch.load('classificationModuele_CNN.pb'))\n",
    "model.eval()\n",
    "                                     "
   ]
  },
  {
   "cell_type": "code",
   "execution_count": 37,
   "id": "2a4ab3bf-7809-4bb8-83e1-95fa3aa4e1df",
   "metadata": {},
   "outputs": [],
   "source": [
    "label=np.array(['cat','dog'])\n",
    "#image data prepare\n",
    "transform=transforms.Compose([\n",
    "    transforms.Resize(256),\n",
    "    transforms.ToTensor()\n",
    "])"
   ]
  },
  {
   "cell_type": "code",
   "execution_count": 38,
   "id": "cfbfb897-bb58-4fe8-9b7c-5d9f6df661aa",
   "metadata": {},
   "outputs": [],
   "source": [
    "def predict(image_path):\n",
    "    img=Image.open(image_path)\n",
    "    #process image data for extended one dimension\n",
    "    img=transform(img).unsqueeze(0)\n",
    "    output=model(img)\n",
    "    _,predicted=torch.max(output,1)\n",
    "    print(label[predicted.item()])"
   ]
  },
  {
   "cell_type": "code",
   "execution_count": 39,
   "id": "9f822df2-8437-4ec4-af04-8d0a0f148981",
   "metadata": {},
   "outputs": [
    {
     "name": "stdout",
     "output_type": "stream",
     "text": [
      "cat\n"
     ]
    }
   ],
   "source": [
    "predict('image/test/cat/myTest1.jpg')"
   ]
  },
  {
   "cell_type": "code",
   "execution_count": 40,
   "id": "cb785763-7a8d-4ba3-a071-32c37751a4c0",
   "metadata": {},
   "outputs": [
    {
     "name": "stdout",
     "output_type": "stream",
     "text": [
      "cat\n"
     ]
    }
   ],
   "source": [
    "predict('image/test/cat/cat.1091.jpg')"
   ]
  },
  {
   "cell_type": "code",
   "execution_count": 41,
   "id": "87a82415-ef64-4c48-8ee4-78728eb58cb6",
   "metadata": {},
   "outputs": [
    {
     "name": "stdout",
     "output_type": "stream",
     "text": [
      "dog\n"
     ]
    }
   ],
   "source": [
    "predict('image/test/dog/dog.1014.jpg')"
   ]
  },
  {
   "cell_type": "code",
   "execution_count": 42,
   "id": "db776f39-81e4-441f-9696-84a2bdec505c",
   "metadata": {},
   "outputs": [
    {
     "name": "stdout",
     "output_type": "stream",
     "text": [
      "dog\n"
     ]
    }
   ],
   "source": [
    "predict('image/test/dog/dog.1023.jpg')"
   ]
  },
  {
   "cell_type": "code",
   "execution_count": null,
   "id": "d6fc7919-0890-4958-ba28-f375700e7405",
   "metadata": {},
   "outputs": [],
   "source": []
  }
 ],
 "metadata": {
  "kernelspec": {
   "display_name": "Python 3 (ipykernel)",
   "language": "python",
   "name": "python3"
  },
  "language_info": {
   "codemirror_mode": {
    "name": "ipython",
    "version": 3
   },
   "file_extension": ".py",
   "mimetype": "text/x-python",
   "name": "python",
   "nbconvert_exporter": "python",
   "pygments_lexer": "ipython3",
   "version": "3.12.4"
  }
 },
 "nbformat": 4,
 "nbformat_minor": 5
}
