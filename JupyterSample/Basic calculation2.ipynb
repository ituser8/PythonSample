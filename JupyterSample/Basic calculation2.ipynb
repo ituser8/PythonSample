{
 "cells": [
  {
   "cell_type": "code",
   "execution_count": 1,
   "id": "5947fd11-a369-422c-bd40-449b70b7d1e9",
   "metadata": {},
   "outputs": [],
   "source": [
    "import torch"
   ]
  },
  {
   "cell_type": "code",
   "execution_count": 2,
   "id": "ab565a80-8f1b-41d4-8bf8-664d2cb2d9ef",
   "metadata": {},
   "outputs": [
    {
     "data": {
      "text/plain": [
       "tensor([[0.0887, 0.7636],\n",
       "        [0.2302, 0.5587],\n",
       "        [0.8047, 0.9952]])"
      ]
     },
     "execution_count": 2,
     "metadata": {},
     "output_type": "execute_result"
    }
   ],
   "source": [
    "sample=torch.rand(3,2)\n",
    "sample"
   ]
  },
  {
   "cell_type": "code",
   "execution_count": 3,
   "id": "c4a73507-8439-4051-b3a9-0149f0220b96",
   "metadata": {},
   "outputs": [
    {
     "data": {
      "text/plain": [
       "tensor(3.4411)"
      ]
     },
     "execution_count": 3,
     "metadata": {},
     "output_type": "execute_result"
    }
   ],
   "source": [
    "torch.sum(sample)"
   ]
  },
  {
   "cell_type": "code",
   "execution_count": 4,
   "id": "ec056b99-8f82-453a-a2ba-8bf1f468f43a",
   "metadata": {},
   "outputs": [
    {
     "data": {
      "text/plain": [
       "tensor(0.0887)"
      ]
     },
     "execution_count": 4,
     "metadata": {},
     "output_type": "execute_result"
    }
   ],
   "source": [
    "torch.min(sample)"
   ]
  },
  {
   "cell_type": "code",
   "execution_count": 5,
   "id": "485e8a2d-5282-4645-9bdf-b60a8114db70",
   "metadata": {},
   "outputs": [
    {
     "data": {
      "text/plain": [
       "tensor(0.9952)"
      ]
     },
     "execution_count": 5,
     "metadata": {},
     "output_type": "execute_result"
    }
   ],
   "source": [
    "torch.max(sample)"
   ]
  },
  {
   "cell_type": "code",
   "execution_count": 6,
   "id": "68c73f1f-465c-4e87-80ef-4bb3550137ab",
   "metadata": {},
   "outputs": [
    {
     "data": {
      "text/plain": [
       "tensor(0)"
      ]
     },
     "execution_count": 6,
     "metadata": {},
     "output_type": "execute_result"
    }
   ],
   "source": [
    "torch.argmin(sample)"
   ]
  },
  {
   "cell_type": "code",
   "execution_count": 7,
   "id": "5f0a4943-41f4-4366-a386-b4f92b15153e",
   "metadata": {},
   "outputs": [
    {
     "data": {
      "text/plain": [
       "tensor(5)"
      ]
     },
     "execution_count": 7,
     "metadata": {},
     "output_type": "execute_result"
    }
   ],
   "source": [
    "torch.argmax(sample)"
   ]
  },
  {
   "cell_type": "code",
   "execution_count": 8,
   "id": "1e5dc5ad-bf9d-44e9-952e-a902f0f6f955",
   "metadata": {},
   "outputs": [
    {
     "data": {
      "text/plain": [
       "tensor(0.5735)"
      ]
     },
     "execution_count": 8,
     "metadata": {},
     "output_type": "execute_result"
    }
   ],
   "source": [
    "torch.mean(sample)"
   ]
  },
  {
   "cell_type": "code",
   "execution_count": 9,
   "id": "cf7fc357-66c5-4599-82c3-55ab9797506a",
   "metadata": {},
   "outputs": [
    {
     "data": {
      "text/plain": [
       "tensor(0.5587)"
      ]
     },
     "execution_count": 9,
     "metadata": {},
     "output_type": "execute_result"
    }
   ],
   "source": [
    "torch.median(sample)"
   ]
  },
  {
   "cell_type": "code",
   "execution_count": 10,
   "id": "42520955-ba60-429c-b18c-1020c35ae7e9",
   "metadata": {},
   "outputs": [
    {
     "data": {
      "text/plain": [
       "tensor([[0.2979, 0.8739],\n",
       "        [0.4798, 0.7475],\n",
       "        [0.8970, 0.9976]])"
      ]
     },
     "execution_count": 10,
     "metadata": {},
     "output_type": "execute_result"
    }
   ],
   "source": [
    "torch.sqrt(sample)"
   ]
  },
  {
   "cell_type": "code",
   "execution_count": 11,
   "id": "f77ebdf4-3835-4da9-b2ed-c1013ae0ffd6",
   "metadata": {},
   "outputs": [
    {
     "name": "stdout",
     "output_type": "stream",
     "text": [
      "tensor([[0.0079, 0.5832],\n",
      "        [0.0530, 0.3121],\n",
      "        [0.6475, 0.9904]])\n",
      "tensor([[6.9888e-04, 4.4532e-01],\n",
      "        [1.2199e-02, 1.7438e-01],\n",
      "        [5.2105e-01, 9.8563e-01]])\n"
     ]
    }
   ],
   "source": [
    "print(sample**2)\n",
    "print(sample**3)\n"
   ]
  },
  {
   "cell_type": "code",
   "execution_count": null,
   "id": "082353ab-aac8-4ca4-af51-2c174835b4a4",
   "metadata": {},
   "outputs": [],
   "source": []
  }
 ],
 "metadata": {
  "kernelspec": {
   "display_name": "Python 3 (ipykernel)",
   "language": "python",
   "name": "python3"
  },
  "language_info": {
   "codemirror_mode": {
    "name": "ipython",
    "version": 3
   },
   "file_extension": ".py",
   "mimetype": "text/x-python",
   "name": "python",
   "nbconvert_exporter": "python",
   "pygments_lexer": "ipython3",
   "version": "3.12.4"
  }
 },
 "nbformat": 4,
 "nbformat_minor": 5
}
