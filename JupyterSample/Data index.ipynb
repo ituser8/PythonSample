{
 "cells": [
  {
   "cell_type": "code",
   "execution_count": 3,
   "id": "eef8eab9-59e4-40b3-86a1-ca118d65f02d",
   "metadata": {},
   "outputs": [],
   "source": [
    "import torch"
   ]
  },
  {
   "cell_type": "code",
   "execution_count": 4,
   "id": "420592f5-c76d-4573-923a-cb7b0e95b84b",
   "metadata": {},
   "outputs": [
    {
     "name": "stdout",
     "output_type": "stream",
     "text": [
      "tensor([ 2,  3,  4,  5,  6,  7,  8,  9, 10, 11, 12, 13])\n"
     ]
    }
   ],
   "source": [
    "tensor =torch.arange(2,14)\n",
    "print(tensor)"
   ]
  },
  {
   "cell_type": "raw",
   "id": "a42b31ef-786c-4f25-b1f1-7f94277134be",
   "metadata": {},
   "source": []
  },
  {
   "cell_type": "code",
   "execution_count": 5,
   "id": "b03486d2-3f55-4f22-892a-b16d9b7a51a2",
   "metadata": {},
   "outputs": [
    {
     "name": "stdout",
     "output_type": "stream",
     "text": [
      "tensor(4)\n"
     ]
    }
   ],
   "source": [
    "print(tensor[2])"
   ]
  },
  {
   "cell_type": "code",
   "execution_count": 6,
   "id": "dbfb4dc3-2d76-438b-922e-5a34807cb300",
   "metadata": {},
   "outputs": [
    {
     "name": "stdout",
     "output_type": "stream",
     "text": [
      "tensor([3, 4, 5])\n"
     ]
    }
   ],
   "source": [
    "print(tensor[1:4])"
   ]
  },
  {
   "cell_type": "code",
   "execution_count": 7,
   "id": "3c0478ff-ed7f-46fa-b326-e9fcabf98351",
   "metadata": {},
   "outputs": [
    {
     "name": "stdout",
     "output_type": "stream",
     "text": [
      "tensor([ 4,  5,  6,  7,  8,  9, 10, 11, 12])\n"
     ]
    }
   ],
   "source": [
    "print(tensor[2:-1])"
   ]
  },
  {
   "cell_type": "code",
   "execution_count": 8,
   "id": "426c8491-7605-479b-bbd7-6fdae95beb93",
   "metadata": {},
   "outputs": [
    {
     "name": "stdout",
     "output_type": "stream",
     "text": [
      "tensor([2, 3, 4, 5, 6])\n"
     ]
    }
   ],
   "source": [
    "print(tensor[:5])"
   ]
  },
  {
   "cell_type": "code",
   "execution_count": 10,
   "id": "5a92342b-cadc-4dd0-b9a2-44002f40c679",
   "metadata": {},
   "outputs": [
    {
     "name": "stdout",
     "output_type": "stream",
     "text": [
      "tensor([11, 12, 13])\n"
     ]
    }
   ],
   "source": [
    "print(tensor[-3:])"
   ]
  },
  {
   "cell_type": "code",
   "execution_count": 11,
   "id": "63e90356-caa7-4f30-bafc-1cd6e4ba9b57",
   "metadata": {},
   "outputs": [
    {
     "data": {
      "text/plain": [
       "tensor([3, 5, 6, 7, 7])"
      ]
     },
     "execution_count": 11,
     "metadata": {},
     "output_type": "execute_result"
    }
   ],
   "source": [
    "index=[1,3,4,5,5]\n",
    "tensor[index]"
   ]
  },
  {
   "cell_type": "code",
   "execution_count": 12,
   "id": "54d32322-e6cc-46fd-a0c5-f18d3279c289",
   "metadata": {},
   "outputs": [
    {
     "name": "stdout",
     "output_type": "stream",
     "text": [
      "tensor(2)\n",
      "tensor(3)\n",
      "tensor(4)\n",
      "tensor(5)\n",
      "tensor(6)\n",
      "tensor(7)\n",
      "tensor(8)\n",
      "tensor(9)\n",
      "tensor(10)\n",
      "tensor(11)\n",
      "tensor(12)\n",
      "tensor(13)\n"
     ]
    }
   ],
   "source": [
    "for t in tensor:\n",
    "    print(t)"
   ]
  },
  {
   "cell_type": "code",
   "execution_count": null,
   "id": "87f746cd-cb6a-48d0-8463-13634fe84277",
   "metadata": {},
   "outputs": [],
   "source": []
  }
 ],
 "metadata": {
  "kernelspec": {
   "display_name": "Python 3 (ipykernel)",
   "language": "python",
   "name": "python3"
  },
  "language_info": {
   "codemirror_mode": {
    "name": "ipython",
    "version": 3
   },
   "file_extension": ".py",
   "mimetype": "text/x-python",
   "name": "python",
   "nbconvert_exporter": "python",
   "pygments_lexer": "ipython3",
   "version": "3.12.4"
  }
 },
 "nbformat": 4,
 "nbformat_minor": 5
}
